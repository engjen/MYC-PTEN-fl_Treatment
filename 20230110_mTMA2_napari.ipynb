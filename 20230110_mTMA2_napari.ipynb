{
 "cells": [
  {
   "cell_type": "code",
   "execution_count": null,
   "id": "f6d1763d",
   "metadata": {},
   "outputs": [],
   "source": [
    "import napari\n",
    "import os\n",
    "import skimage\n",
    "from skimage import io, measure\n",
    "from skimage.io import imread\n",
    "import numpy as np\n",
    "import copy\n",
    "import pandas as pd\n",
    "import tifffile\n",
    "from PIL import Image, ImageFont, ImageDraw \n",
    "import seaborn as sns"
   ]
  },
  {
   "cell_type": "code",
   "execution_count": null,
   "id": "2f6aeb93",
   "metadata": {},
   "outputs": [],
   "source": [
    "#paths\n",
    "codedir = '/Users/engje/Documents/Data/mTMA-4'\n",
    "regdir = f'{codedir}/Cropped'\n",
    "#regdir = '/Volumes/BCC_Chin_Lab_RDS/ChinData/Cyclic_Workflow/cmIF_2022-03-25_mTMA2/Cropped'\n",
    "os.chdir(codedir)\n",
    "os.chdir('..')\n",
    "from mplex_image import visualize as viz\n",
    "from mplex_image import mpimage, analyze\n",
    "os.chdir(codedir)\n",
    "title_font = ImageFont.truetype('SansSerifBldFLF.otf',50)"
   ]
  },
  {
   "cell_type": "code",
   "execution_count": null,
   "id": "61cf5a68-702a-4023-b0ff-e68a6ee8912d",
   "metadata": {},
   "outputs": [],
   "source": [
    "#load single cell data\n",
    "os.chdir(codedir)\n",
    "s_data = 'tma_meta.data.csv'\n",
    "df_mi = pd.read_csv(f'{s_data}',index_col=0)\n",
    "df_mi = df_mi.set_index('subtractedregisteredimages')\n",
    "df_mi['DAPI_X'] = df_mi.umX/.325 #convert back to pixels\n",
    "df_mi['DAPI_Y'] = df_mi.umY/.325\n",
    "df_mi['cellid'] = [item.split('cell')[1] for item in df_mi.index]\n",
    "df_prop = ((df_mi.groupby(['slidescene','seurat_clusters']).count().iloc[:,0])/(df_mi.groupby(['slidescene']).count().iloc[:,0])).unstack().fillna(0)"
   ]
  },
  {
   "cell_type": "code",
   "execution_count": null,
   "id": "68f7b7e5-5343-443b-ac8f-03b34d942a3e",
   "metadata": {},
   "outputs": [],
   "source": [
    "# make the intensity data (done)\n",
    "# ls_file = ['features_mTMA2-4_Ecad_patched_MeanIntensity_Shape_DAPI1_DAPI6_registeredimages.csv',\n",
    "#  'features_mTMA2-5_Ecad_patched_MeanIntensity_Shape_DAPI1_DAPI6_registeredimages.csv']\n",
    "# df_all = pd.DataFrame()\n",
    "# for s_file in ls_file:\n",
    "#     df = pd.read_csv(s_file,index_col=0)\n",
    "#     df_all = pd.concat([df_all,df])\n",
    "# df_all = df_all.loc[:,df_all.dtypes=='float64']\n",
    "# df_all = df_all.loc[:,~df_all.columns.str.contains('DAPI')]\n",
    "# df_all = df_all.loc[:,~df_all.columns.str.contains('cellmem2p25')]\n",
    "# df_all.columns = [item.split('_')[0] for item in df_all.columns]\n",
    "# df_all = df_all.loc[:,~df_all.columns.duplicated(keep=False)]\n",
    "# df_all.drop('nuclei',axis=1,inplace=True)\n",
    "# df_mi.loc[:,['seurat_clusters']].merge(df_all,left_index=True,right_index=True).to_csv('tma_int.data.csv')\n",
    "\n",
    "#load intensity data\n",
    "df_clust = pd.read_csv('tma_int.data.csv',index_col=0)"
   ]
  },
  {
   "cell_type": "code",
   "execution_count": null,
   "id": "1cc5096c-00b8-4958-b3b6-a521a6f9220a",
   "metadata": {},
   "outputs": [],
   "source": []
  },
  {
   "cell_type": "code",
   "execution_count": null,
   "id": "16056c66-051e-47db-ae1a-e483fc877f11",
   "metadata": {},
   "outputs": [],
   "source": [
    "%matplotlib inline \n",
    "ls_drop =  ['LamAC','RAD51', 'gH2AX','pMYC','pRPA','CD4', 'CD8','ColI']\n",
    "df_plot = df_clust.drop(ls_drop,axis=1).groupby('seurat_clusters').mean()\n",
    "g = sns.clustermap(df_plot,z_score=1,vmin=-2,vmax=2,cmap='viridis',figsize=(5,4),xticklabels=1,yticklabels=1,\n",
    "                   dendrogram_ratio=0.1, cbar_pos=(0.01, 0.9, 0.04, 0.15))\n",
    "g.savefig('clusters_heatmap.png',dpi=300)"
   ]
  },
  {
   "cell_type": "code",
   "execution_count": null,
   "id": "0fd2370a-e08d-47fa-950e-553c1d5a14db",
   "metadata": {},
   "outputs": [],
   "source": [
    "test_cluster = 1\n",
    "df_prop.sort_values(by=test_cluster,ascending=False)[0:5]"
   ]
  },
  {
   "cell_type": "markdown",
   "id": "5c43f8c5-3b53-4732-8745-ab1945398124",
   "metadata": {},
   "source": [
    "## Load a core\n",
    "\n",
    "and add seurat clustering results"
   ]
  },
  {
   "cell_type": "code",
   "execution_count": null,
   "id": "667a89a1",
   "metadata": {
    "tags": []
   },
   "outputs": [],
   "source": [
    "# crops/local\n",
    "s_slide ='mTMA2-4_sceneG07' # \n",
    "\n",
    "#load images\n",
    "print(s_slide)\n",
    "os.chdir(f'{regdir}')\n",
    "for s_file in os.listdir():\n",
    "    if s_file.find(s_slide) > -1:\n",
    "        s_crop = s_file.split('_')[2]\n",
    "viewer = napari.Viewer()\n",
    "label_image = viz.load_crops(viewer,s_crop,s_slide)\n",
    "viewer.scale_bar.visible = True\n",
    "title_text = f'{s_slide}'\n",
    "viz.add_slide_name(viewer, title_text,title_font, s_layer='DAPI1')\n",
    "label_corrected = viz.correct_labels(viewer)\n",
    "viewer.add_labels(label_corrected)"
   ]
  },
  {
   "cell_type": "code",
   "execution_count": null,
   "id": "529780fd-93aa-44fe-877e-b400b8f724f0",
   "metadata": {},
   "outputs": [],
   "source": [
    "# add all the clusters\n",
    "df_scene = df_mi[df_mi.slidescene==s_slide] #[:-1]\n",
    "s_col = 'seurat_clusters'\n",
    "for idx,i_clust in enumerate(sorted(df_scene.loc[:,s_col].unique())): \n",
    "    viz.add_cluster(viewer,df_scene,s_col,i_clust,idx,label_corrected)"
   ]
  },
  {
   "cell_type": "markdown",
   "id": "b06c8646-c3d3-4a96-a72c-bb6e5accd12a",
   "metadata": {},
   "source": [
    "## Area exclusion\n",
    "\n",
    "select areas of the tissue to analyze or exclude"
   ]
  },
  {
   "cell_type": "code",
   "execution_count": null,
   "id": "99cfbc6c-60db-4d59-bef6-554b6ed9224a",
   "metadata": {},
   "outputs": [],
   "source": [
    "# add points at centroids\n",
    "points,x_arr = add_points(s_crop,df_mi,s_slide)\n",
    "viewer.add_points(points)"
   ]
  },
  {
   "cell_type": "code",
   "execution_count": null,
   "id": "191c11c1-7ce5-4eec-ba67-c16380a7756e",
   "metadata": {},
   "outputs": [],
   "source": [
    "#draw shape, then run this cell (after every new shape)\n",
    "\n",
    "verts = viewer.layers['Shapes'].data[0]\n",
    "b_poly = measure.points_in_poly(points, verts)\n",
    "point_properties = {\n",
    "    'label': np.array(df_mi.loc[df_mi.index.str.contains(s_slide),'cellid']),\n",
    "    'in_poly' : np.array(b_poly)\n",
    "}\n",
    "points_layer = viewer.add_points(points, properties=point_properties, face_color='in_poly',face_color_cycle=['magenta', 'black'],edge_width=0)\n"
   ]
  },
  {
   "cell_type": "code",
   "execution_count": null,
   "id": "b67169dd-bdcf-454f-807e-6e82258fc00b",
   "metadata": {},
   "outputs": [],
   "source": [
    "# specify if points to exclude are ...\n",
    "# in polygon (might be black or magenta)\n",
    "df_exclude = x_arr.loc[b_poly]\n",
    "# out of polygon (again, color can change)\n",
    "#df_exclude = x_arr.loc[~b_poly]"
   ]
  },
  {
   "cell_type": "code",
   "execution_count": null,
   "id": "7711b497-6eed-4691-ad94-e79f19efe221",
   "metadata": {},
   "outputs": [],
   "source": [
    "# add another ROI\n",
    "# more in poly\n",
    "df_exclude = pd.concat([df_exclude,x_arr.loc[b_poly]])\n",
    "# more out of poly\n",
    "#df_exclude = pd.concat([df_exclude,x_arr.loc[~b_poly]])"
   ]
  },
  {
   "cell_type": "code",
   "execution_count": null,
   "id": "a700d3bf-b1f1-4a0d-9fe4-0ea2262f5275",
   "metadata": {},
   "outputs": [],
   "source": [
    "# save\n",
    "df_exclude.to_csv(f'exclude_{s_slide}.csv')"
   ]
  },
  {
   "cell_type": "markdown",
   "id": "38c39144-71a0-4921-a8c2-41970673d1a2",
   "metadata": {},
   "source": [
    "## Equalized display range\n",
    "\n",
    "View multiple tissues with same markers and display range"
   ]
  },
  {
   "cell_type": "code",
   "execution_count": null,
   "id": "b77c717b",
   "metadata": {},
   "outputs": [],
   "source": [
    "# equalized display range for making figures\n",
    "ls_slide = ['mTMA2-4_sceneA04','mTMA2-4_sceneA01',]\n",
    "d_marker = {'DAPI1':0,'CD31':0,'Ecad':50,'Ki67':80,'CD45':(2,30),}\n",
    "os.chdir(regdir)\n",
    "for s_slide in ls_slide: \n",
    "    print(s_slide)\n",
    "    for s_file in os.listdir():\n",
    "        if s_file.find(s_slide) > -1:\n",
    "            s_crop = s_file.split('_')[2]\n",
    "    viewer = napari.Viewer()\n",
    "    label_image = viz.load_marker(viewer,s_crop,s_slide,d_marker)\n",
    "    viewer.scale_bar.visible = True\n",
    "    viz.add_slide_name(viewer, s_slide, title_font,s_layer=list(d_marker.keys())[0])\n",
    "    #break"
   ]
  },
  {
   "cell_type": "markdown",
   "id": "70a3b9ee-3753-4a9d-93f6-5a8e7bc1934e",
   "metadata": {},
   "source": [
    "## Viewing markers at full resolution (server)\n",
    "\n",
    "make sure to mount server (cmd-k)\n",
    "\n",
    "requires access"
   ]
  },
  {
   "cell_type": "code",
   "execution_count": null,
   "id": "b9599b4e",
   "metadata": {},
   "outputs": [],
   "source": [
    "## viewing markers at full resolution (server)\n",
    "regdir_server = '/Volumes/BCC_Chin_Lab_RDS/ChinData/Cyclic_Workflow/cmIF_2022-03-25_mTMA2/SubtractedRegisteredImages'\n",
    "segdir = '/Volumes/BCC_Chin_Lab_RDS/ChinData/Cyclic_Workflow/cmIF_2022-03-25_mTMA2/Segmentation/mTMA2-4_CellposeSegmentation'\n",
    "\n",
    "from skimage.io import imread\n",
    "ls_rpa = ['mTMA2-4_sceneA01'\n",
    " ]\n",
    "\n",
    "ls_marker = ['pMYC','DAPI1']\n",
    "for s_slide in ls_rpa:\n",
    "    regdir_slide = f'{regdir_server}/{s_slide}'\n",
    "    os.chdir(regdir_slide)\n",
    "    df_img = mpimage.parse_org()\n",
    "    #update dapis\n",
    "    d_out = {item:'DAPI' + df_img.loc[item,'round_num'].astype('int').astype('str') for item in df_img[df_img.marker=='DAPI'].index}\n",
    "    for s_index, s_dapi in d_out.items():\n",
    "        df_img.loc[s_index,'marker'] = s_dapi\n",
    "    filenames = df_img[df_img.marker.isin(ls_marker)].index\n",
    "    viewer = napari.Viewer()\n",
    "    for i, filename in enumerate(filenames):\n",
    "        if filename.find('Registered') > -1:\n",
    "            s_index = f\"Registered{filename.split('Registered')[1]}\"\n",
    "            s_marker = df_img.loc[s_index,'marker']\n",
    "            img = imread(s_index)\n",
    "            q99 = np.quantile(img,0.998)\n",
    "            if s_marker.find('DAPI') > -1:\n",
    "                viewer.add_image(img, contrast_limits=[1000,65000], multiscale=False, blending='additive',visible=True,name=s_marker,colormap='blue')\n",
    "            elif s_marker == 'CK19' or s_marker == 'Ecad':\n",
    "                viewer.add_image(img, contrast_limits=[750,q99*1.5], multiscale=False, blending='additive',visible=False,name=s_marker)\n",
    "            else:\n",
    "                viewer.add_image(img, contrast_limits=[0,q99*1.5], multiscale=False, blending='additive',visible=False,name=s_marker)\n",
    "    os.chdir(segdir)\n",
    "    labels = io.imread(f'{s_slide}_Ecad_nuc30_cell30_matched_exp5_CellSegmentationBasins.tif')\n",
    "    viewer.add_labels(labels,blending='additive')\n",
    "#     nuclabels = io.imread(f'{s_slide}_nuclei0.5_NucleiSegmentationBasins.tif')\n",
    "#     viewer.add_labels(nuclabels,blending='additive')\n",
    "    add_slide_name(viewer, s_slide, title_font,s_layer='DAPI1')\n",
    "    viewer.scale_bar.visible = True\n",
    "    break\n"
   ]
  },
  {
   "cell_type": "markdown",
   "id": "e9e2bc97-2ac5-44a8-a854-64b420393026",
   "metadata": {},
   "source": [
    "###  move images around on one drive\n",
    "\n",
    "copy cores analyzed by zinab"
   ]
  },
  {
   "cell_type": "code",
   "execution_count": null,
   "id": "5ea9a910-d564-4f03-aaed-8350be722a76",
   "metadata": {},
   "outputs": [],
   "source": [
    "## server (works way better)\n",
    "# import shutil\n",
    "# cropdir = '/Volumes/BCC_Chin_Lab_RDS/ChinData/Cyclic_Workflow/cmIF_2022-03-25_mTMA2/Cropped'\n",
    "# os.chdir(cropdir)\n",
    "# ls_scene = df_mi.slidescene.unique()[2::]\n",
    "# df_img = pd.DataFrame(index=os.listdir())\n",
    "# df_img['scene'] = [item.split('_')[0] + '_' + item.split('_')[1] for item in df_img.index]\n",
    "# for s_scene in ls_scene:\n",
    "#     print(s_scene)\n",
    "#     ls_img = df_img[df_img.scene==s_scene].index\n",
    "#     for s_img in ls_img:\n",
    "#         source = s_img\n",
    "#         destination = f'{regdir}/{s_img}'\n",
    "#         shutil.copy(source, destination)\n",
    "#     #break\n",
    "# os.chdir(codedir)"
   ]
  },
  {
   "cell_type": "code",
   "execution_count": null,
   "id": "f1ee82c9-1362-4bae-9128-3569fd0cf8b2",
   "metadata": {},
   "outputs": [],
   "source": [
    "## one drive (works poorly)\n",
    "# ls_scene = df_mi.slidescene.unique()\n",
    "# os.chdir('/Users/engje//Oregon Health & Science University - Zinab Doha - cyclic_IF_ZD_JE/Cropped1')\n",
    "# import shutil\n",
    "# df_img = pd.DataFrame(index=os.listdir())\n",
    "# df_img['scene'] = [item.split('_')[0] + '_' + item.split('_')[1] for item in df_img.index]\n",
    "# for s_scene in ls_scene:\n",
    "#     print(s_scene)\n",
    "#     ls_img = df_img[df_img.scene==s_scene].index\n",
    "#     for s_img in ls_img:\n",
    "#         source = s_img\n",
    "#         destination = f'../Cropped/{s_img}'\n",
    "#         shutil.copy(source, destination)\n",
    "#os.chdir(codedir)"
   ]
  },
  {
   "cell_type": "code",
   "execution_count": null,
   "id": "f36696d3-6b2e-4bac-ad47-77d497f6d862",
   "metadata": {},
   "outputs": [],
   "source": []
  }
 ],
 "metadata": {
  "kernelspec": {
   "display_name": "Python 3 (ipykernel)",
   "language": "python",
   "name": "python3"
  },
  "language_info": {
   "codemirror_mode": {
    "name": "ipython",
    "version": 3
   },
   "file_extension": ".py",
   "mimetype": "text/x-python",
   "name": "python",
   "nbconvert_exporter": "python",
   "pygments_lexer": "ipython3",
   "version": "3.10.9"
  }
 },
 "nbformat": 4,
 "nbformat_minor": 5
}
